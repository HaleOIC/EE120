{
  "metadata": {
    "language_info": {
      "codemirror_mode": {
        "name": "python",
        "version": 3
      },
      "file_extension": ".py",
      "mimetype": "text/x-python",
      "name": "python",
      "nbconvert_exporter": "python",
      "pygments_lexer": "ipython3",
      "version": "3.8"
    },
    "kernelspec": {
      "name": "python",
      "display_name": "Python (Pyodide)",
      "language": "python"
    }
  },
  "nbformat_minor": 4,
  "nbformat": 4,
  "cells": [
    {
      "cell_type": "markdown",
      "source": "## 创建ndarray数组\n### 基于`np.arange`",
      "metadata": {
        "tags": [],
        "trusted": true
      }
    },
    {
      "cell_type": "code",
      "source": "import numpy as np\n#一维数组\narr1 = np.arange(5)\nprint(arr1)\n#二维数组\narr2 = np.array([np.arange(5), np.arange(5)])\nprint(arr2)\n",
      "metadata": {
        "trusted": true
      },
      "execution_count": 6,
      "outputs": [
        {
          "name": "stdout",
          "text": "[0 1 2 3 4]\n[[0 1 2 3 4]\n [0 1 2 3 4]]\n",
          "output_type": "stream"
        }
      ]
    },
    {
      "cell_type": "markdown",
      "source": "### 基于arange及reshape创建多维数组",
      "metadata": {
        "trusted": true
      }
    },
    {
      "cell_type": "code",
      "source": "import numpy as np\narr = np.arange(24).reshape(2, 3, 4)\nprint(arr)",
      "metadata": {
        "trusted": true
      },
      "execution_count": 7,
      "outputs": [
        {
          "name": "stdout",
          "text": "[[[ 0  1  2  3]\n  [ 4  5  6  7]\n  [ 8  9 10 11]]\n\n [[12 13 14 15]\n  [16 17 18 19]\n  [20 21 22 23]]]\n",
          "output_type": "stream"
        }
      ]
    },
    {
      "cell_type": "markdown",
      "source": "## `Numpy`的数值类型\n具体的包括：\n- `np.int8`\n- `np.float64`\n- `bool`\n- `float`\n- `complex`",
      "metadata": {
        "trusted": true
      }
    },
    {
      "cell_type": "code",
      "source": "import numpy as np\na = np.arange(5, dtype = float)\nprint(a)",
      "metadata": {
        "trusted": true
      },
      "execution_count": 3,
      "outputs": [
        {
          "name": "stdout",
          "text": "[0. 1. 2. 3. 4.]\n",
          "output_type": "stream"
        }
      ]
    },
    {
      "cell_type": "markdown",
      "source": "## ndarray数组的属性\n- `dtype`：数据类型的种类\n- `ndim`：数组维度的数量\n- `shape`：数组对象的尺度，对于矩阵即n行m列，shape是一个元组\n- `size`：用于保存元素的数量\n- `itemsize`：返回数组中各个元素所占用的字节数大小\n- `nbytes`: 返回整个数组所需的字节量\n- `T`: 数组转置\n- `real` `imag`：返回数组的实部、虚部\n- `flat`：返回一个`numpy.flatiter`对象即可迭代的对象",
      "metadata": {
        "trusted": true
      }
    }
  ]
}